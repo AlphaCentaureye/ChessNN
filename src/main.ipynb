{
  "cells": [
    {
      "cell_type": "code",
      "execution_count": 1,
      "metadata": {
        "colab": {
          "base_uri": "https://localhost:8080/"
        },
        "id": "DzH2abuX3Szf",
        "outputId": "31fb26fb-faf3-4f5f-8c15-f48026773a72"
      },
      "outputs": [
        {
          "name": "stdout",
          "output_type": "stream",
          "text": [
            "Collecting chess\n",
            "  Downloading chess-1.10.0-py3-none-any.whl (154 kB)\n",
            "\u001b[2K     \u001b[90m━━━━━━━━━━━━━━━━━━━━━━━━━━━━━━━━━━━━━━━━\u001b[0m \u001b[32m154.4/154.4 kB\u001b[0m \u001b[31m1.8 MB/s\u001b[0m eta \u001b[36m0:00:00\u001b[0m\n",
            "\u001b[?25hInstalling collected packages: chess\n",
            "Successfully installed chess-1.10.0\n",
            "Cloning into 'ChessNN'...\n",
            "remote: Enumerating objects: 309, done.\u001b[K\n",
            "remote: Counting objects: 100% (54/54), done.\u001b[K\n",
            "remote: Compressing objects: 100% (38/38), done.\u001b[K\n",
            "remote: Total 309 (delta 35), reused 34 (delta 16), pack-reused 255\u001b[K\n",
            "Receiving objects: 100% (309/309), 62.66 KiB | 8.95 MiB/s, done.\n",
            "Resolving deltas: 100% (198/198), done.\n"
          ]
        }
      ],
      "source": [
        "# just pip install all necesay libraries and comment out Colab specific lines when running on a computer\n",
        "\n",
        "import os\n",
        "\n",
        "\n",
        "# comment out following section for PC\n",
        "!pip install chess\n",
        "import shutil\n",
        "if os.path.exists('/content/ChessNN'):\n",
        "  shutil.rmtree('/content/ChessNN')\n",
        "\n",
        "!git clone https://github.com/AlphaCentaureye/ChessNN.git\n",
        "\n",
        "import sys\n",
        "sys.path.insert(0, '/content/ChessNN/src/')\n",
        "\n",
        "\n",
        "\n",
        "# always keep\n",
        "import tensorflow as tf\n",
        "import chess\n",
        "from environment import Board\n",
        "from agent import Agent\n",
        "from learning_algs import Q_learn\n",
        "import numpy as np\n",
        "\n",
        "\n"
      ]
    },
    {
      "cell_type": "code",
      "execution_count": null,
      "metadata": {
        "colab": {
          "base_uri": "https://localhost:8080/",
          "height": 1000
        },
        "id": "7QA0GYk73Szi",
        "outputId": "9b8c4f80-21b9-4752-a13b-4be754bed143"
      },
      "outputs": [],
      "source": [
        "# train network\n",
        "\n",
        "environment = Board()\n",
        "agent = Agent(verbose=1)\n",
        "agent.init_network()\n",
        "#print(agent.model.summary())\n",
        "\n",
        "learn = Q_learn(agent, environment)\n",
        "learn.learn(iterations=30, updateThreshold=1, explorationRateRatio=5, display=True)\n",
        "\n",
        "try:\n",
        "    agent.saveNN() # optional path param, but defaults to path /content/savedNNs/\n",
        "except Exception as e:\n",
        "    print(e)\n"
      ]
    },
    {
      "cell_type": "code",
      "execution_count": null,
      "metadata": {
        "colab": {
          "base_uri": "https://localhost:8080/",
          "height": 17
        },
        "id": "taGgNGABBqMT",
        "outputId": "95e246ff-e54e-4631-ca5a-a049e46dbbc7"
      },
      "outputs": [],
      "source": [
        "from logging import exception\n",
        "from google.colab import files\n",
        "try:\n",
        "  files.download('/content/savedNNs/chessNN_model.zip')\n",
        "except exception as e:\n",
        "  print(e)"
      ]
    },
    {
      "cell_type": "code",
      "execution_count": null,
      "metadata": {
        "colab": {
          "base_uri": "https://localhost:8080/",
          "height": 1000
        },
        "id": "Qg_P-ZZV3Szj",
        "outputId": "949a6881-42e9-4ec1-a0cb-404f1a59b91c"
      },
      "outputs": [],
      "source": [
        "# play against network\n",
        "\n",
        "board_env = Board()\n",
        "\n",
        "while board_env.board.result() == '*':\n",
        "    prediction_vector = agent.find_move(Agent.one_hot_encode(board_env.board, color=chess.WHITE))\n",
        "    move = Agent.one_hot_decode(prediction_vector, board_env.board)\n",
        "    board_env.play(move)\n",
        "    if not(board_env.board.result() == '*'):\n",
        "        break\n",
        "    while True:\n",
        "        move_input = input('enter move (ex: a2a3): ')\n",
        "        move = chess.Move.from_uci(move_input)\n",
        "        if move in board_env.board.legal_moves:\n",
        "            board_env.play(move)\n",
        "            break\n",
        "        else:\n",
        "            print('** invalid move **')\n",
        "\n",
        "print('GAME OVER')\n",
        "print('winner: ', 'white' if board_env.board.result() == '1-0' else ('black' if board_env.board.result() == '0-1' else 'draw'))\n"
      ]
    }
  ],
  "metadata": {
    "accelerator": "TPU",
    "colab": {
      "provenance": []
    },
    "kernelspec": {
      "display_name": "Python 3",
      "name": "python3"
    },
    "language_info": {
      "codemirror_mode": {
        "name": "ipython",
        "version": 3
      },
      "file_extension": ".py",
      "mimetype": "text/x-python",
      "name": "python",
      "nbconvert_exporter": "python",
      "pygments_lexer": "ipython3",
      "version": "3.10.0"
    }
  },
  "nbformat": 4,
  "nbformat_minor": 0
}
