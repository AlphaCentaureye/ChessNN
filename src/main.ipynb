{
 "cells": [
  {
   "cell_type": "code",
   "execution_count": 1,
   "metadata": {},
   "outputs": [
    {
     "name": "stderr",
     "output_type": "stream",
     "text": [
      "2023-11-29 12:11:49.305997: I tensorflow/core/platform/cpu_feature_guard.cc:182] This TensorFlow binary is optimized to use available CPU instructions in performance-critical operations.\n",
      "To enable the following instructions: AVX2 FMA, in other operations, rebuild TensorFlow with the appropriate compiler flags.\n"
     ]
    }
   ],
   "source": [
    "\n",
    "import tensorflow as tf\n",
    "import os\n",
    "import chess\n",
    "from environment import Board\n",
    "from agent import Agent\n",
    "from learning_algs import Q_learn\n"
   ]
  },
  {
   "cell_type": "code",
   "execution_count": null,
   "metadata": {},
   "outputs": [],
   "source": [
    "# train network\n",
    "\n",
    "environment = Board()\n",
    "agent = Agent()\n",
    "\n",
    "learn = Q_learn(agent, environment)\n",
    "learn.learn(iterations=2, updateThreshold=1)\n",
    "\n",
    "try:\n",
    "    agent.saveNN()\n",
    "except Exception as e:\n",
    "    print(e)"
   ]
  },
  {
   "cell_type": "code",
   "execution_count": null,
   "metadata": {},
   "outputs": [],
   "source": [
    "# play against network\n",
    "\n",
    "board_env = Board()\n",
    "\n",
    "while board_env.board.result() == '*':\n",
    "    prediction_vector = agent.find_move(Agent.one_hot_encode(board_env.board, color=chess.WHITE))\n",
    "    move = Agent.one_hot_decode(prediction_vector, board_env.board)\n",
    "    board_env.play(move)\n",
    "    if not(board_env.board.result() == '*'):\n",
    "        break\n",
    "    while True:\n",
    "        move_input = input('enter move (ex: a2a3): ')\n",
    "        move = chess.Move.from_uci(move_input)\n",
    "        if move in board_env.board.legal_moves:\n",
    "            board_env.play(move)\n",
    "            break\n",
    "        else:\n",
    "            print('** invalid move **')\n",
    "\n",
    "print('GAME OVER')\n",
    "print('winner: ', 'white' if board_env.board.result() == '1-0' else ('black' if board_env.board.result() == '0-1' else 'draw'))\n"
   ]
  }
 ],
 "metadata": {
  "kernelspec": {
   "display_name": "Python 3",
   "language": "python",
   "name": "python3"
  },
  "language_info": {
   "codemirror_mode": {
    "name": "ipython",
    "version": 3
   },
   "file_extension": ".py",
   "mimetype": "text/x-python",
   "name": "python",
   "nbconvert_exporter": "python",
   "pygments_lexer": "ipython3",
   "version": "3.10.0"
  }
 },
 "nbformat": 4,
 "nbformat_minor": 2
}
